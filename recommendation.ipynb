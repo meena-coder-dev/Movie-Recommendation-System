{
 "cells": [
  {
   "cell_type": "code",
   "execution_count": 1,
   "id": "a94a158f-adfb-4ba0-88b4-1143f7d3485b",
   "metadata": {},
   "outputs": [
    {
     "name": "stdout",
     "output_type": "stream",
     "text": [
      "Movies similar to 'Jumanji (1995)':\n",
      "0                      Toy Story (1995)\n",
      "2               Grumpier Old Men (1995)\n",
      "3              Waiting to Exhale (1995)\n",
      "4    Father of the Bride Part II (1995)\n",
      "Name: title, dtype: object\n"
     ]
    },
    {
     "name": "stderr",
     "output_type": "stream",
     "text": [
      "C:\\Users\\user\\AppData\\Roaming\\Python\\Python313\\site-packages\\sklearn\\feature_extraction\\text.py:517: UserWarning: The parameter 'token_pattern' will not be used since 'tokenizer' is not None'\n",
      "  warnings.warn(\n"
     ]
    }
   ],
   "source": [
    "# Movie Recommendation System - Kuncham Meenakshi\n",
    "\n",
    "# 1️⃣ Import Libraries\n",
    "import pandas as pd\n",
    "from sklearn.metrics.pairwise import cosine_similarity\n",
    "from sklearn.feature_extraction.text import CountVectorizer\n",
    "\n",
    "# 2️⃣ Load datasets\n",
    "movies = pd.read_csv(\"movies.csv\")\n",
    "ratings = pd.read_csv(\"ratings.csv\")\n",
    "\n",
    "# 3️⃣ Merge ratings with movies\n",
    "data = pd.merge(ratings, movies, on='movieId')\n",
    "\n",
    "# 4️⃣ Create a user-movie rating matrix\n",
    "user_movie_matrix = data.pivot_table(index='userId', columns='title', values='rating')\n",
    "\n",
    "# 5️⃣ Fill NaN with 0 for similarity calculation\n",
    "user_movie_matrix.fillna(0, inplace=True)\n",
    "\n",
    "# 6️⃣ Content-based: Compute similarity between movies\n",
    "count = CountVectorizer(tokenizer=lambda x: x.split('|'))\n",
    "movie_genres_matrix = count.fit_transform(movies['genres'])\n",
    "cosine_sim = cosine_similarity(movie_genres_matrix, movie_genres_matrix)\n",
    "\n",
    "# 7️⃣ Function to recommend movies based on a movie\n",
    "def recommend(movie_title, cosine_sim=cosine_sim, movies=movies):\n",
    "    idx = movies[movies['title'] == movie_title].index[0]\n",
    "    sim_scores = list(enumerate(cosine_sim[idx]))\n",
    "    sim_scores = sorted(sim_scores, key=lambda x: x[1], reverse=True)\n",
    "    sim_scores = sim_scores[1:6]  # top 5 similar movies\n",
    "    movie_indices = [i[0] for i in sim_scores]\n",
    "    return movies['title'].iloc[movie_indices]\n",
    "\n",
    "# 8️⃣ Test recommendation\n",
    "print(\"Movies similar to 'Jumanji (1995)':\")\n",
    "print(recommend(\"Jumanji (1995)\"))\n"
   ]
  },
  {
   "cell_type": "code",
   "execution_count": null,
   "id": "2d1700e2-a1f1-4d3e-8461-cc918f177c75",
   "metadata": {},
   "outputs": [],
   "source": []
  }
 ],
 "metadata": {
  "kernelspec": {
   "display_name": "Python 3 (ipykernel)",
   "language": "python",
   "name": "python3"
  },
  "language_info": {
   "codemirror_mode": {
    "name": "ipython",
    "version": 3
   },
   "file_extension": ".py",
   "mimetype": "text/x-python",
   "name": "python",
   "nbconvert_exporter": "python",
   "pygments_lexer": "ipython3",
   "version": "3.13.7"
  }
 },
 "nbformat": 4,
 "nbformat_minor": 5
}
